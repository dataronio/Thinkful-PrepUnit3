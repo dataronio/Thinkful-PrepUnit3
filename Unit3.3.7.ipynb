{
 "cells": [
  {
   "cell_type": "code",
   "execution_count": 13,
   "metadata": {},
   "outputs": [],
   "source": [
    "import numpy as np\n",
    "import matplotlib.pyplot as plt\n",
    "import scipy\n",
    "import pandas as pd\n",
    "%matplotlib inline\n",
    "from scipy.stats import ttest_ind"
   ]
  },
  {
   "cell_type": "code",
   "execution_count": 14,
   "metadata": {},
   "outputs": [
    {
     "data": {
      "image/png": "[encoded data removed]",
      "text/plain": [
       "<matplotlib.figure.Figure at 0x7fafe69d7400>"
      ]
     },
     "metadata": {},
     "output_type": "display_data"
    }
   ],
   "source": [
    "pop1 = np.random.binomial(10, 0.2, 10000)\n",
    "pop2 = np.random.binomial(10,0.5, 10000) \n",
    "\n",
    "# Let’s make histograms for the two groups. \n",
    "\n",
    "plt.hist(pop1, alpha=0.5, label='Population 1') \n",
    "plt.hist(pop2, alpha=0.5, label='Population 2') \n",
    "plt.legend(loc='upper right') \n",
    "plt.show()"
   ]
  },
  {
   "cell_type": "markdown",
   "metadata": {},
   "source": [
    "We made our binomial population much as before. Now we take a sample of size 1000 rather than 100."
   ]
  },
  {
   "cell_type": "markdown",
   "metadata": {},
   "source": [
    "### Sample Size of 1000 ###"
   ]
  },
  {
   "cell_type": "code",
   "execution_count": 15,
   "metadata": {},
   "outputs": [
    {
     "data": {
      "image/png": "[encoded data removed]",
      "text/plain": [
       "<matplotlib.figure.Figure at 0x7fafe6682198>"
      ]
     },
     "metadata": {},
     "output_type": "display_data"
    }
   ],
   "source": [
    "sample1 = np.random.choice(pop1, 1000, replace=True)\n",
    "sample2 = np.random.choice(pop2, 1000, replace=True)\n",
    "\n",
    "plt.hist(sample1, alpha=0.5, label='sample 1 Size 1000') \n",
    "plt.hist(sample2, alpha=0.5, label='sample 2 Size 1000') \n",
    "plt.legend(loc='upper right')  \n",
    "plt.show()"
   ]
  },
  {
   "cell_type": "code",
   "execution_count": 16,
   "metadata": {},
   "outputs": [
    {
     "name": "stdout",
     "output_type": "stream",
     "text": [
      "2.021\n",
      "5.012\n",
      "1.2564071792217681\n",
      "1.5703044290837365\n",
      "2.9909999999999997\n"
     ]
    }
   ],
   "source": [
    "print(sample1.mean())\n",
    "print(sample2.mean())\n",
    "print(sample1.std())\n",
    "print(sample2.std())\n",
    "\n",
    "# Compute the difference between the two sample means.\n",
    "diff=sample2.mean( ) -sample1.mean()\n",
    "print(diff)"
   ]
  },
  {
   "cell_type": "markdown",
   "metadata": {},
   "source": [
    "### Sample Size of 20 ###"
   ]
  },
  {
   "cell_type": "code",
   "execution_count": 17,
   "metadata": {},
   "outputs": [
    {
     "data": {
      "image/png": "[encoded data removed]",
      "text/plain": [
       "<matplotlib.figure.Figure at 0x7fafe65570b8>"
      ]
     },
     "metadata": {},
     "output_type": "display_data"
    }
   ],
   "source": [
    "sample1 = np.random.choice(pop1, 20, replace=True)\n",
    "sample2 = np.random.choice(pop2, 20, replace=True)\n",
    "\n",
    "plt.hist(sample1, alpha=0.5, label='sample 1 Size 20') \n",
    "plt.hist(sample2, alpha=0.5, label='sample 2 Size 20') \n",
    "plt.legend(loc='upper right') \n",
    "plt.show()"
   ]
  },
  {
   "cell_type": "code",
   "execution_count": 18,
   "metadata": {},
   "outputs": [
    {
     "name": "stdout",
     "output_type": "stream",
     "text": [
      "2.05\n",
      "4.75\n",
      "1.116915395184434\n",
      "1.5771810295587503\n",
      "2.7\n"
     ]
    }
   ],
   "source": [
    "print(sample1.mean())\n",
    "print(sample2.mean())\n",
    "print(sample1.std())\n",
    "print(sample2.std())\n",
    "\n",
    "# Compute the difference between the two sample means.\n",
    "diff=sample2.mean( ) -sample1.mean()\n",
    "print(diff)"
   ]
  },
  {
   "cell_type": "markdown",
   "metadata": {},
   "source": [
    "Means for sample 1 are close but there are greater differences in sample2. Standard deviation are quite different for both samples."
   ]
  },
  {
   "cell_type": "markdown",
   "metadata": {},
   "source": [
    "#### change pop1 to have a p-value of  0.3 ####"
   ]
  },
  {
   "cell_type": "code",
   "execution_count": 20,
   "metadata": {},
   "outputs": [
    {
     "name": "stdout",
     "output_type": "stream",
     "text": [
      "Ttest_indResult(statistic=-9.227065835769604, pvalue=4.8788502372230065e-17)\n"
     ]
    }
   ],
   "source": [
    "newpop1 = np.random.binomial(10, 0.3, 10000)\n",
    "newpop2 = np.random.binomial(10, 0.5, 10000)\n",
    "\n",
    "newsample1 = np.random.choice(newpop1, 100, replace=True)\n",
    "newsample2 = np.random.choice(newpop2, 100, replace=True)\n",
    "\n",
    "print(ttest_ind(newsample1, newsample2, equal_var=False))"
   ]
  },
  {
   "cell_type": "markdown",
   "metadata": {},
   "source": [
    "#### change pop1 to have p-value of 0.4 ###\n",
    "It will look closer to pop2"
   ]
  },
  {
   "cell_type": "code",
   "execution_count": 21,
   "metadata": {},
   "outputs": [
    {
     "name": "stdout",
     "output_type": "stream",
     "text": [
      "Ttest_indResult(statistic=-4.652368867842942, pvalue=5.996684205162068e-06)\n"
     ]
    }
   ],
   "source": [
    "newpop11 = np.random.binomial(10, 0.4, 10000)\n",
    "newpop22 = np.random.binomial(10, 0.5, 10000)\n",
    "\n",
    "newsample11 = np.random.choice(newpop11, 100, replace=True)\n",
    "newsample22 = np.random.choice(newpop22, 100, replace=True)\n",
    "\n",
    "print(ttest_ind(newsample11, newsample22, equal_var=False))"
   ]
  },
  {
   "cell_type": "markdown",
   "metadata": {},
   "source": [
    "As the distributions become closer to each other the t statistic becomes closer to zero and the p-value increases."
   ]
  },
  {
   "cell_type": "code",
   "execution_count": 24,
   "metadata": {},
   "outputs": [
    {
     "name": "stdout",
     "output_type": "stream",
     "text": [
      "4.2575386285232835\n",
      "5.807699144102725\n",
      "1.7227334419932205\n",
      "1.6407219186446285\n",
      "1.5501605155794413\n"
     ]
    }
   ],
   "source": [
    "triangpop1 =  np.random.triangular(0,4,8, 10000)\n",
    "triangpop2 = np.random.triangular(2,6,10,10000)\n",
    "\n",
    "trisample1 = np.random.choice(triangpop1, 100, replace=True)\n",
    "trisample2 = np.random.choice(triangpop2, 100, replace=True)\n",
    "\n",
    "print(trisample1.mean())\n",
    "print(trisample2.mean())\n",
    "print(trisample1.std())\n",
    "print(trisample2.std())\n",
    "\n",
    "# Compute the difference between the two sample means.\n",
    "diff=trisample2.mean( ) - trisample1.mean()\n",
    "print(diff)\n"
   ]
  },
  {
   "cell_type": "code",
   "execution_count": 25,
   "metadata": {},
   "outputs": [
    {
     "name": "stdout",
     "output_type": "stream",
     "text": [
      "3.986678681864044\n",
      "5.99299086485162\n",
      "1.6320441618995605\n",
      "1.6207681792004487\n",
      "2.0063121829875765\n"
     ]
    }
   ],
   "source": [
    "trisample1 = np.random.choice(triangpop1, 1000, replace=True)\n",
    "trisample2 = np.random.choice(triangpop2, 1000, replace=True)\n",
    "\n",
    "print(trisample1.mean())\n",
    "print(trisample2.mean())\n",
    "print(trisample1.std())\n",
    "print(trisample2.std())\n",
    "\n",
    "# Compute the difference between the two sample means.\n",
    "diff=trisample2.mean( ) - trisample1.mean()\n",
    "print(diff)"
   ]
  },
  {
   "cell_type": "markdown",
   "metadata": {},
   "source": [
    " The difference in means of the triangular population is 2.  As sample size increases from 100 to 1000 we seem to\n",
    "converge to a difference close to 2.0 as expected."
   ]
  },
  {
   "cell_type": "code",
   "execution_count": null,
   "metadata": {},
   "outputs": [],
   "source": []
  }
 ],
 "metadata": {
  "kernelspec": {
   "display_name": "Python 3",
   "language": "python",
   "name": "python3"
  },
  "language_info": {
   "codemirror_mode": {
    "name": "ipython",
    "version": 3
   },
   "file_extension": ".py",
   "mimetype": "text/x-python",
   "name": "python",
   "nbconvert_exporter": "python",
   "pygments_lexer": "ipython3",
   "version": "3.6.4"
  }
 },
 "nbformat": 4,
 "nbformat_minor": 2
}
