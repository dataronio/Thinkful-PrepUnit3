{
 "cells": [
  {
   "cell_type": "code",
   "execution_count": 1,
   "metadata": {},
   "outputs": [],
   "source": [
    "import numpy as np"
   ]
  },
  {
   "cell_type": "code",
   "execution_count": 2,
   "metadata": {},
   "outputs": [],
   "source": [
    "bradys = [14, 12, 11, 10, 8,6,8]"
   ]
  },
  {
   "cell_type": "markdown",
   "metadata": {},
   "source": [
    "Question 1 follows."
   ]
  },
  {
   "cell_type": "code",
   "execution_count": 14,
   "metadata": {},
   "outputs": [
    {
     "name": "stdout",
     "output_type": "stream",
     "text": [
      "Mean of kids ages are  9.857142857142858\n",
      "Median of kids ages are  10.0\n",
      "Mode of bradys ages is  8\n",
      "Variance of kids ages are  6.408163265306122\n",
      "Std deviation of bradys ages is 2.531435020952764\n",
      "Std Err. of kids ages are  0.9567925036515135\n"
     ]
    }
   ],
   "source": [
    "print(\"Mean of kids ages are \", np.mean(bradys))\n",
    "print(\"Median of kids ages are \", np.median(bradys))\n",
    "counts = np.bincount(bradys)\n",
    "print(\"Mode of bradys ages is \", np.argmax(counts))\n",
    "print(\"Variance of kids ages are \", np.var(bradys))\n",
    "print(\"Std deviation of bradys ages is\" , np.var(bradys)**0.5)\n",
    "print(\"Std Err. of kids ages are \", (np.var(bradys)**0.5)/(len(bradys)**0.5))"
   ]
  },
  {
   "cell_type": "markdown",
   "metadata": {},
   "source": [
    "Question 2. The sample is not greatly skewed.  The mean and std. dev would work perfectly fine."
   ]
  },
  {
   "cell_type": "code",
   "execution_count": 16,
   "metadata": {},
   "outputs": [],
   "source": [
    "newages = [14, 12, 11, 10, 8,7,8]\n"
   ]
  },
  {
   "cell_type": "code",
   "execution_count": 17,
   "metadata": {},
   "outputs": [
    {
     "name": "stdout",
     "output_type": "stream",
     "text": [
      "Mean of kids ages are  10.0\n",
      "Median of kids ages are  10.0\n",
      "Mode of bradys ages is  8\n",
      "Variance of kids ages are  5.428571428571429\n",
      "Std deviation of bradys ages is 2.32992949004287\n",
      "Std Err. of kids ages are  0.8806305718527109\n"
     ]
    }
   ],
   "source": [
    "print(\"Mean of kids ages are \", np.mean(newages))\n",
    "print(\"Median of kids ages are \", np.median(newages))\n",
    "counts = np.bincount(newages)\n",
    "print(\"Mode of bradys ages is \", np.argmax(counts))\n",
    "print(\"Variance of kids ages are \", np.var(newages))\n",
    "print(\"Std deviation of bradys ages is\" , np.var(newages)**0.5)\n",
    "print(\"Std Err. of kids ages are \", (np.var(newages)**0.5)/(len(bradys)**0.5))"
   ]
  },
  {
   "cell_type": "markdown",
   "metadata": {},
   "source": [
    "Question 3. Mean increases. Variance, std dev and std. Err. decreases. Mode and median stay the same."
   ]
  },
  {
   "cell_type": "code",
   "execution_count": 18,
   "metadata": {},
   "outputs": [
    {
     "name": "stdout",
     "output_type": "stream",
     "text": [
      "Mean of kids ages are  9.0\n",
      "Median of kids ages are  10.0\n",
      "Mode of bradys ages is  1\n",
      "Variance of kids ages are  15.428571428571429\n",
      "Std deviation of bradys ages is 3.927922024247863\n",
      "Std Err. of kids ages are  1.4846149779161806\n"
     ]
    }
   ],
   "source": [
    "newages2 = [14,12,11,10,8,7,1]\n",
    "print(\"Mean of kids ages are \", np.mean(newages2))\n",
    "print(\"Median of kids ages are \", np.median(newages2))\n",
    "counts = np.bincount(newages2)\n",
    "print(\"Mode of bradys ages is \", np.argmax(counts))\n",
    "print(\"Variance of kids ages are \", np.var(newages2))\n",
    "print(\"Std deviation of bradys ages is\" , np.var(newages2)**0.5)\n",
    "print(\"Std Err. of kids ages are \", (np.var(newages2)**0.5)/(len(bradys)**0.5))"
   ]
  },
  {
   "cell_type": "markdown",
   "metadata": {},
   "source": [
    "Question 4. We now have a more skewed sample of ages.  We should choose measures that are robust\n",
    "to these changes.  We could simple use the median for central tendency and calculate the variance\n",
    "using the median rather than mean."
   ]
  },
  {
   "cell_type": "markdown",
   "metadata": {},
   "source": [
    "Question 5.  Most of the magazines have estimates around 20% except for SciPhi Phanatic which has a very low estimate.  We should use the median to do the estimates.  The people who subscribe to sci phi phanatic don't like the Brady Bunch at all.  They are clearly not a good sample of adult Americans. By excluding them we get a 20% mean and median.  From 18.5% to 20% is probably a decent estimate range."
   ]
  },
  {
   "cell_type": "code",
   "execution_count": 20,
   "metadata": {},
   "outputs": [
    {
     "name": "stdout",
     "output_type": "stream",
     "text": [
      "the mean of estimates is  16.25\n",
      "the median of estimates is  18.5\n"
     ]
    }
   ],
   "source": [
    "fans = [20,23,17,5]\n",
    "print(\"the mean of estimates is \",np.mean(fans))\n",
    "print(\"the median of estimates is \",np.median(fans))"
   ]
  },
  {
   "cell_type": "code",
   "execution_count": null,
   "metadata": {},
   "outputs": [],
   "source": []
  }
 ],
 "metadata": {
  "kernelspec": {
   "display_name": "Python 3",
   "language": "python",
   "name": "python3"
  },
  "language_info": {
   "codemirror_mode": {
    "name": "ipython",
    "version": 3
   },
   "file_extension": ".py",
   "mimetype": "text/x-python",
   "name": "python",
   "nbconvert_exporter": "python",
   "pygments_lexer": "ipython3",
   "version": "3.6.4"
  }
 },
 "nbformat": 4,
 "nbformat_minor": 2
}
